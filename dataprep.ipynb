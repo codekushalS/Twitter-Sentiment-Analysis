{
 "cells": [
  {
   "cell_type": "code",
   "execution_count": 1,
   "id": "d976397b",
   "metadata": {},
   "outputs": [],
   "source": [
    "# utilities\n",
    "import re\n",
    "import numpy as np\n",
    "import pandas as pd\n",
    "# plotting\n",
    "import seaborn as sns\n",
    "# from wordcloud import WordCloud\n",
    "import matplotlib.pyplot as plt\n",
    "# nltk\n",
    "from nltk.stem import WordNetLemmatizer\n",
    "# sklearn\n",
    "from sklearn.svm import LinearSVC\n",
    "from sklearn.naive_bayes import BernoulliNB\n",
    "from sklearn.linear_model import LogisticRegression\n",
    "from sklearn.model_selection import train_test_split\n",
    "from sklearn.feature_extraction.text import TfidfVectorizer\n",
    "from sklearn.metrics import confusion_matrix, classification_report"
   ]
  },
  {
   "cell_type": "code",
   "execution_count": 2,
   "id": "4a761409",
   "metadata": {},
   "outputs": [
    {
     "data": {
      "text/html": [
       "<div>\n",
       "<style scoped>\n",
       "    .dataframe tbody tr th:only-of-type {\n",
       "        vertical-align: middle;\n",
       "    }\n",
       "\n",
       "    .dataframe tbody tr th {\n",
       "        vertical-align: top;\n",
       "    }\n",
       "\n",
       "    .dataframe thead th {\n",
       "        text-align: right;\n",
       "    }\n",
       "</style>\n",
       "<table border=\"1\" class=\"dataframe\">\n",
       "  <thead>\n",
       "    <tr style=\"text-align: right;\">\n",
       "      <th></th>\n",
       "      <th>target</th>\n",
       "      <th>ids</th>\n",
       "      <th>date</th>\n",
       "      <th>flag</th>\n",
       "      <th>user</th>\n",
       "      <th>text</th>\n",
       "    </tr>\n",
       "  </thead>\n",
       "  <tbody>\n",
       "    <tr>\n",
       "      <th>602788</th>\n",
       "      <td>0</td>\n",
       "      <td>2221488831</td>\n",
       "      <td>Thu Jun 18 05:28:44 PDT 2009</td>\n",
       "      <td>NO_QUERY</td>\n",
       "      <td>Tugboatwilly86</td>\n",
       "      <td>Rain, rain, go away.</td>\n",
       "    </tr>\n",
       "    <tr>\n",
       "      <th>1343915</th>\n",
       "      <td>4</td>\n",
       "      <td>2039805881</td>\n",
       "      <td>Thu Jun 04 22:51:14 PDT 2009</td>\n",
       "      <td>NO_QUERY</td>\n",
       "      <td>carrot_girl</td>\n",
       "      <td>Yay watchin Home and Away</td>\n",
       "    </tr>\n",
       "    <tr>\n",
       "      <th>1066168</th>\n",
       "      <td>4</td>\n",
       "      <td>1965258552</td>\n",
       "      <td>Fri May 29 15:36:13 PDT 2009</td>\n",
       "      <td>NO_QUERY</td>\n",
       "      <td>lindsayeden</td>\n",
       "      <td>@Jonasbrothers all of them</td>\n",
       "    </tr>\n",
       "    <tr>\n",
       "      <th>517676</th>\n",
       "      <td>0</td>\n",
       "      <td>2191353129</td>\n",
       "      <td>Tue Jun 16 05:05:46 PDT 2009</td>\n",
       "      <td>NO_QUERY</td>\n",
       "      <td>leeshamak</td>\n",
       "      <td>So... talked to the superintendant of schools....</td>\n",
       "    </tr>\n",
       "    <tr>\n",
       "      <th>192802</th>\n",
       "      <td>0</td>\n",
       "      <td>1969930909</td>\n",
       "      <td>Sat May 30 01:46:37 PDT 2009</td>\n",
       "      <td>NO_QUERY</td>\n",
       "      <td>graffitimath_24</td>\n",
       "      <td>Is kris allen's account really all fake?</td>\n",
       "    </tr>\n",
       "  </tbody>\n",
       "</table>\n",
       "</div>"
      ],
      "text/plain": [
       "         target         ids                          date      flag  \\\n",
       "602788        0  2221488831  Thu Jun 18 05:28:44 PDT 2009  NO_QUERY   \n",
       "1343915       4  2039805881  Thu Jun 04 22:51:14 PDT 2009  NO_QUERY   \n",
       "1066168       4  1965258552  Fri May 29 15:36:13 PDT 2009  NO_QUERY   \n",
       "517676        0  2191353129  Tue Jun 16 05:05:46 PDT 2009  NO_QUERY   \n",
       "192802        0  1969930909  Sat May 30 01:46:37 PDT 2009  NO_QUERY   \n",
       "\n",
       "                    user                                               text  \n",
       "602788    Tugboatwilly86                              Rain, rain, go away.   \n",
       "1343915      carrot_girl                         Yay watchin Home and Away   \n",
       "1066168      lindsayeden                        @Jonasbrothers all of them   \n",
       "517676         leeshamak  So... talked to the superintendant of schools....  \n",
       "192802   graffitimath_24          Is kris allen's account really all fake?   "
      ]
     },
     "execution_count": 2,
     "metadata": {},
     "output_type": "execute_result"
    }
   ],
   "source": [
    "DATASET_COLUMNS=['target','ids','date','flag','user','text']\n",
    "DATASET_ENCODING = \"ISO-8859-1\"\n",
    "df = pd.read_csv('data.csv', encoding=DATASET_ENCODING, names=DATASET_COLUMNS)\n",
    "df.sample(5)"
   ]
  },
  {
   "cell_type": "code",
   "execution_count": 14,
   "id": "2a5a6755",
   "metadata": {},
   "outputs": [],
   "source": [
    "sdf = df.sample(frac=0.065)"
   ]
  },
  {
   "cell_type": "code",
   "execution_count": 15,
   "id": "72fd5f26",
   "metadata": {},
   "outputs": [
    {
     "data": {
      "text/plain": [
       "(104000, 6)"
      ]
     },
     "execution_count": 15,
     "metadata": {},
     "output_type": "execute_result"
    }
   ],
   "source": [
    "sdf.shape"
   ]
  },
  {
   "cell_type": "code",
   "execution_count": 16,
   "id": "75b2c60f",
   "metadata": {},
   "outputs": [],
   "source": [
    "df2 = sdf[['text', 'target']].copy()"
   ]
  },
  {
   "cell_type": "code",
   "execution_count": 17,
   "id": "5de16087",
   "metadata": {},
   "outputs": [
    {
     "data": {
      "text/plain": [
       "(104000, 2)"
      ]
     },
     "execution_count": 17,
     "metadata": {},
     "output_type": "execute_result"
    }
   ],
   "source": [
    "df2.shape"
   ]
  },
  {
   "cell_type": "code",
   "execution_count": 18,
   "id": "c6cbc14c",
   "metadata": {},
   "outputs": [],
   "source": [
    "df2.to_csv('ndata.csv', index=False)"
   ]
  },
  {
   "cell_type": "code",
   "execution_count": 19,
   "id": "841834dc",
   "metadata": {},
   "outputs": [],
   "source": [
    "nd = pd.read_csv('ndata.csv')"
   ]
  },
  {
   "cell_type": "code",
   "execution_count": 20,
   "id": "206d4309",
   "metadata": {},
   "outputs": [
    {
     "data": {
      "text/html": [
       "<div>\n",
       "<style scoped>\n",
       "    .dataframe tbody tr th:only-of-type {\n",
       "        vertical-align: middle;\n",
       "    }\n",
       "\n",
       "    .dataframe tbody tr th {\n",
       "        vertical-align: top;\n",
       "    }\n",
       "\n",
       "    .dataframe thead th {\n",
       "        text-align: right;\n",
       "    }\n",
       "</style>\n",
       "<table border=\"1\" class=\"dataframe\">\n",
       "  <thead>\n",
       "    <tr style=\"text-align: right;\">\n",
       "      <th></th>\n",
       "      <th>text</th>\n",
       "      <th>target</th>\n",
       "    </tr>\n",
       "  </thead>\n",
       "  <tbody>\n",
       "    <tr>\n",
       "      <th>0</th>\n",
       "      <td>@IAmBhargava If u r paying the bill, Cable Car...</td>\n",
       "      <td>4</td>\n",
       "    </tr>\n",
       "    <tr>\n",
       "      <th>1</th>\n",
       "      <td>@Popcorn_Nut  awww noo! that's a shame. i had ...</td>\n",
       "      <td>0</td>\n",
       "    </tr>\n",
       "    <tr>\n",
       "      <th>2</th>\n",
       "      <td>@Serenade13 read previous tweet to @hakuna_mat...</td>\n",
       "      <td>4</td>\n",
       "    </tr>\n",
       "    <tr>\n",
       "      <th>3</th>\n",
       "      <td>@magicswebpage That's how it goes   it sucks.....</td>\n",
       "      <td>0</td>\n",
       "    </tr>\n",
       "    <tr>\n",
       "      <th>4</th>\n",
       "      <td>yay we changes rooms! classrooms I mean. I mig...</td>\n",
       "      <td>4</td>\n",
       "    </tr>\n",
       "  </tbody>\n",
       "</table>\n",
       "</div>"
      ],
      "text/plain": [
       "                                                text  target\n",
       "0  @IAmBhargava If u r paying the bill, Cable Car...       4\n",
       "1  @Popcorn_Nut  awww noo! that's a shame. i had ...       0\n",
       "2  @Serenade13 read previous tweet to @hakuna_mat...       4\n",
       "3  @magicswebpage That's how it goes   it sucks.....       0\n",
       "4  yay we changes rooms! classrooms I mean. I mig...       4"
      ]
     },
     "execution_count": 20,
     "metadata": {},
     "output_type": "execute_result"
    }
   ],
   "source": [
    "nd.head()"
   ]
  },
  {
   "cell_type": "code",
   "execution_count": 21,
   "id": "47e01ac6",
   "metadata": {},
   "outputs": [
    {
     "data": {
      "text/plain": [
       "(104000, 2)"
      ]
     },
     "execution_count": 21,
     "metadata": {},
     "output_type": "execute_result"
    }
   ],
   "source": [
    "nd.shape"
   ]
  },
  {
   "cell_type": "code",
   "execution_count": 22,
   "id": "58b569f6",
   "metadata": {},
   "outputs": [
    {
     "data": {
      "text/plain": [
       "4    52125\n",
       "0    51875\n",
       "Name: target, dtype: int64"
      ]
     },
     "execution_count": 22,
     "metadata": {},
     "output_type": "execute_result"
    }
   ],
   "source": [
    "nd['target'].value_counts()"
   ]
  },
  {
   "cell_type": "code",
   "execution_count": null,
   "id": "2dc7b61d",
   "metadata": {},
   "outputs": [],
   "source": []
  }
 ],
 "metadata": {
  "kernelspec": {
   "display_name": "Python 3",
   "language": "python",
   "name": "python3"
  },
  "language_info": {
   "codemirror_mode": {
    "name": "ipython",
    "version": 3
   },
   "file_extension": ".py",
   "mimetype": "text/x-python",
   "name": "python",
   "nbconvert_exporter": "python",
   "pygments_lexer": "ipython3",
   "version": "3.11.2"
  }
 },
 "nbformat": 4,
 "nbformat_minor": 5
}
